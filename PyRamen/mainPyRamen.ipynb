{
 "cells": [
  {
   "cell_type": "markdown",
   "metadata": {},
   "source": [
    "# PyRamen Script\n",
    "\n"
   ]
  },
  {
   "cell_type": "code",
   "execution_count": 1,
   "metadata": {},
   "outputs": [],
   "source": [
    "\n",
    "\"\"\" Script will be used to calculate the revenue, cogs, and profit for each menu item sold. \"\"\"\n",
    "\n",
    "# @TODO: Import libraries\n",
    "import csv\n",
    "import pandas as pd\n",
    "from pathlib import Path"
   ]
  },
  {
   "cell_type": "code",
   "execution_count": 2,
   "metadata": {},
   "outputs": [],
   "source": [
    "# @TODO: Set file paths for menu_data.csv and sales_data.csv\n",
    "menu_filepath = Path('Resources/menu_data.csv')\n",
    "sales_filepath = Path('Resources/sales_data.csv')"
   ]
  },
  {
   "cell_type": "code",
   "execution_count": 3,
   "metadata": {},
   "outputs": [],
   "source": [
    "# read the menu csv file as a dataframe and set menu and sales items as index\n",
    "menu_df = pd.read_csv(menu_filepath, index_col = 'item')\n",
    "sales_df = pd.read_csv(sales_filepath, index_col = 'Menu_Item')\n"
   ]
  },
  {
   "cell_type": "code",
   "execution_count": 4,
   "metadata": {},
   "outputs": [
    {
     "data": {
      "text/html": [
       "<div>\n",
       "<style scoped>\n",
       "    .dataframe tbody tr th:only-of-type {\n",
       "        vertical-align: middle;\n",
       "    }\n",
       "\n",
       "    .dataframe tbody tr th {\n",
       "        vertical-align: top;\n",
       "    }\n",
       "\n",
       "    .dataframe thead th {\n",
       "        text-align: right;\n",
       "    }\n",
       "</style>\n",
       "<table border=\"1\" class=\"dataframe\">\n",
       "  <thead>\n",
       "    <tr style=\"text-align: right;\">\n",
       "      <th></th>\n",
       "      <th>category</th>\n",
       "      <th>description</th>\n",
       "      <th>price</th>\n",
       "      <th>cost</th>\n",
       "    </tr>\n",
       "    <tr>\n",
       "      <th>item</th>\n",
       "      <th></th>\n",
       "      <th></th>\n",
       "      <th></th>\n",
       "      <th></th>\n",
       "    </tr>\n",
       "  </thead>\n",
       "  <tbody>\n",
       "    <tr>\n",
       "      <th>edamame</th>\n",
       "      <td>appetizers</td>\n",
       "      <td>boiled soybeans, maldon sea salt</td>\n",
       "      <td>4.0</td>\n",
       "      <td>1</td>\n",
       "    </tr>\n",
       "    <tr>\n",
       "      <th>house salad</th>\n",
       "      <td>appetizers</td>\n",
       "      <td>mixed greens, cherry tomatoes, cucumber, house...</td>\n",
       "      <td>4.0</td>\n",
       "      <td>2</td>\n",
       "    </tr>\n",
       "    <tr>\n",
       "      <th>cucumber sunomono salad</th>\n",
       "      <td>appetizers</td>\n",
       "      <td>cucumber, ponzu dressing, pickled ginger sprou...</td>\n",
       "      <td>5.0</td>\n",
       "      <td>2</td>\n",
       "    </tr>\n",
       "    <tr>\n",
       "      <th>hiyashi wakame seaweed salad</th>\n",
       "      <td>appetizers</td>\n",
       "      <td>sweet soy-marinated wakame seaweed threads, pi...</td>\n",
       "      <td>5.0</td>\n",
       "      <td>2</td>\n",
       "    </tr>\n",
       "    <tr>\n",
       "      <th>agedashi tofu</th>\n",
       "      <td>appetizers</td>\n",
       "      <td>tempura battered tofu, katsuobushi, tsuyu brot...</td>\n",
       "      <td>5.0</td>\n",
       "      <td>2</td>\n",
       "    </tr>\n",
       "  </tbody>\n",
       "</table>\n",
       "</div>"
      ],
      "text/plain": [
       "                                category  \\\n",
       "item                                       \n",
       "edamame                       appetizers   \n",
       "house salad                   appetizers   \n",
       "cucumber sunomono salad       appetizers   \n",
       "hiyashi wakame seaweed salad  appetizers   \n",
       "agedashi tofu                 appetizers   \n",
       "\n",
       "                                                                    description  \\\n",
       "item                                                                              \n",
       "edamame                                        boiled soybeans, maldon sea salt   \n",
       "house salad                   mixed greens, cherry tomatoes, cucumber, house...   \n",
       "cucumber sunomono salad       cucumber, ponzu dressing, pickled ginger sprou...   \n",
       "hiyashi wakame seaweed salad  sweet soy-marinated wakame seaweed threads, pi...   \n",
       "agedashi tofu                 tempura battered tofu, katsuobushi, tsuyu brot...   \n",
       "\n",
       "                              price  cost  \n",
       "item                                       \n",
       "edamame                         4.0     1  \n",
       "house salad                     4.0     2  \n",
       "cucumber sunomono salad         5.0     2  \n",
       "hiyashi wakame seaweed salad    5.0     2  \n",
       "agedashi tofu                   5.0     2  "
      ]
     },
     "execution_count": 4,
     "metadata": {},
     "output_type": "execute_result"
    }
   ],
   "source": [
    "# check columns of menu data\n",
    "menu_df.head()"
   ]
  },
  {
   "cell_type": "code",
   "execution_count": 5,
   "metadata": {},
   "outputs": [
    {
     "data": {
      "text/html": [
       "<div>\n",
       "<style scoped>\n",
       "    .dataframe tbody tr th:only-of-type {\n",
       "        vertical-align: middle;\n",
       "    }\n",
       "\n",
       "    .dataframe tbody tr th {\n",
       "        vertical-align: top;\n",
       "    }\n",
       "\n",
       "    .dataframe thead th {\n",
       "        text-align: right;\n",
       "    }\n",
       "</style>\n",
       "<table border=\"1\" class=\"dataframe\">\n",
       "  <thead>\n",
       "    <tr style=\"text-align: right;\">\n",
       "      <th></th>\n",
       "      <th>Line_Item_ID</th>\n",
       "      <th>Date</th>\n",
       "      <th>Credit_Card_Number</th>\n",
       "      <th>Quantity</th>\n",
       "    </tr>\n",
       "    <tr>\n",
       "      <th>Menu_Item</th>\n",
       "      <th></th>\n",
       "      <th></th>\n",
       "      <th></th>\n",
       "      <th></th>\n",
       "    </tr>\n",
       "  </thead>\n",
       "  <tbody>\n",
       "    <tr>\n",
       "      <th>spicy miso ramen</th>\n",
       "      <td>1</td>\n",
       "      <td>01-01-2017</td>\n",
       "      <td>7437926611570799</td>\n",
       "      <td>1</td>\n",
       "    </tr>\n",
       "    <tr>\n",
       "      <th>spicy miso ramen</th>\n",
       "      <td>2</td>\n",
       "      <td>01-01-2017</td>\n",
       "      <td>7437926611570799</td>\n",
       "      <td>1</td>\n",
       "    </tr>\n",
       "    <tr>\n",
       "      <th>tori paitan ramen</th>\n",
       "      <td>3</td>\n",
       "      <td>01-01-2017</td>\n",
       "      <td>8421920068932819</td>\n",
       "      <td>3</td>\n",
       "    </tr>\n",
       "    <tr>\n",
       "      <th>tori paitan ramen</th>\n",
       "      <td>4</td>\n",
       "      <td>01-01-2017</td>\n",
       "      <td>8421920068932819</td>\n",
       "      <td>3</td>\n",
       "    </tr>\n",
       "    <tr>\n",
       "      <th>truffle butter ramen</th>\n",
       "      <td>5</td>\n",
       "      <td>01-01-2017</td>\n",
       "      <td>4787310681569648</td>\n",
       "      <td>1</td>\n",
       "    </tr>\n",
       "  </tbody>\n",
       "</table>\n",
       "</div>"
      ],
      "text/plain": [
       "                      Line_Item_ID        Date  Credit_Card_Number  Quantity\n",
       "Menu_Item                                                                   \n",
       "spicy miso ramen                 1  01-01-2017    7437926611570799         1\n",
       "spicy miso ramen                 2  01-01-2017    7437926611570799         1\n",
       "tori paitan ramen                3  01-01-2017    8421920068932819         3\n",
       "tori paitan ramen                4  01-01-2017    8421920068932819         3\n",
       "truffle butter ramen             5  01-01-2017    4787310681569648         1"
      ]
     },
     "execution_count": 5,
     "metadata": {},
     "output_type": "execute_result"
    }
   ],
   "source": [
    "# check columns of sales data\n",
    "sales_df.head()\n"
   ]
  },
  {
   "cell_type": "code",
   "execution_count": 6,
   "metadata": {},
   "outputs": [],
   "source": [
    "# rename \"items\" in menu to \"Menu_Item\" to match sales data\n",
    "menu_edit = menu_df.rename(columns={\"item\" : \"Menu_Item\"})"
   ]
  },
  {
   "cell_type": "code",
   "execution_count": 7,
   "metadata": {},
   "outputs": [],
   "source": [
    "# set a datafram to group Menu_Item in sales data by Quanity and sum for total quanity sold of each item\n",
    "sales_grp = sales_df.groupby('Menu_Item')['Quantity'].sum()"
   ]
  },
  {
   "cell_type": "code",
   "execution_count": 8,
   "metadata": {},
   "outputs": [
    {
     "data": {
      "text/plain": [
       "Menu_Item\n",
       "burnt garlic tonkotsu ramen    9070\n",
       "miso crab ramen                8890\n",
       "nagomi shoyu                   9132\n",
       "shio ramen                     9180\n",
       "soft-shell miso crab ramen     9130\n",
       "Name: Quantity, dtype: int64"
      ]
     },
     "execution_count": 8,
     "metadata": {},
     "output_type": "execute_result"
    }
   ],
   "source": [
    "# check dataframe output\n",
    "sales_grp.head()"
   ]
  },
  {
   "cell_type": "code",
   "execution_count": 9,
   "metadata": {},
   "outputs": [],
   "source": [
    "# combine the sales data and menu data columns\n",
    "combined_df = pd.concat([sales_grp, menu_df], axis=\"columns\", join=\"inner\")\n"
   ]
  },
  {
   "cell_type": "code",
   "execution_count": 10,
   "metadata": {},
   "outputs": [
    {
     "data": {
      "text/html": [
       "<div>\n",
       "<style scoped>\n",
       "    .dataframe tbody tr th:only-of-type {\n",
       "        vertical-align: middle;\n",
       "    }\n",
       "\n",
       "    .dataframe tbody tr th {\n",
       "        vertical-align: top;\n",
       "    }\n",
       "\n",
       "    .dataframe thead th {\n",
       "        text-align: right;\n",
       "    }\n",
       "</style>\n",
       "<table border=\"1\" class=\"dataframe\">\n",
       "  <thead>\n",
       "    <tr style=\"text-align: right;\">\n",
       "      <th></th>\n",
       "      <th>Quantity</th>\n",
       "      <th>category</th>\n",
       "      <th>description</th>\n",
       "      <th>price</th>\n",
       "      <th>cost</th>\n",
       "    </tr>\n",
       "  </thead>\n",
       "  <tbody>\n",
       "    <tr>\n",
       "      <th>burnt garlic tonkotsu ramen</th>\n",
       "      <td>9070</td>\n",
       "      <td>entree</td>\n",
       "      <td>rich, shoyi and burnt garlic seasoned niman ra...</td>\n",
       "      <td>14.0</td>\n",
       "      <td>6</td>\n",
       "    </tr>\n",
       "    <tr>\n",
       "      <th>miso crab ramen</th>\n",
       "      <td>8890</td>\n",
       "      <td>entree</td>\n",
       "      <td>house miso crab blend + vegan dashi; slow brai...</td>\n",
       "      <td>12.0</td>\n",
       "      <td>6</td>\n",
       "    </tr>\n",
       "    <tr>\n",
       "      <th>nagomi shoyu</th>\n",
       "      <td>9132</td>\n",
       "      <td>entree</td>\n",
       "      <td>shoyu seasoned clear double stock (organic chi...</td>\n",
       "      <td>11.0</td>\n",
       "      <td>5</td>\n",
       "    </tr>\n",
       "    <tr>\n",
       "      <th>shio ramen</th>\n",
       "      <td>9180</td>\n",
       "      <td>entree</td>\n",
       "      <td>sea salt seasoned clear double stock (organic ...</td>\n",
       "      <td>11.0</td>\n",
       "      <td>5</td>\n",
       "    </tr>\n",
       "    <tr>\n",
       "      <th>soft-shell miso crab ramen</th>\n",
       "      <td>9130</td>\n",
       "      <td>entree</td>\n",
       "      <td>house miso crab blend + vegan dashi; fried who...</td>\n",
       "      <td>14.0</td>\n",
       "      <td>7</td>\n",
       "    </tr>\n",
       "  </tbody>\n",
       "</table>\n",
       "</div>"
      ],
      "text/plain": [
       "                             Quantity category  \\\n",
       "burnt garlic tonkotsu ramen      9070   entree   \n",
       "miso crab ramen                  8890   entree   \n",
       "nagomi shoyu                     9132   entree   \n",
       "shio ramen                       9180   entree   \n",
       "soft-shell miso crab ramen       9130   entree   \n",
       "\n",
       "                                                                   description  \\\n",
       "burnt garlic tonkotsu ramen  rich, shoyi and burnt garlic seasoned niman ra...   \n",
       "miso crab ramen              house miso crab blend + vegan dashi; slow brai...   \n",
       "nagomi shoyu                 shoyu seasoned clear double stock (organic chi...   \n",
       "shio ramen                   sea salt seasoned clear double stock (organic ...   \n",
       "soft-shell miso crab ramen   house miso crab blend + vegan dashi; fried who...   \n",
       "\n",
       "                             price  cost  \n",
       "burnt garlic tonkotsu ramen   14.0     6  \n",
       "miso crab ramen               12.0     6  \n",
       "nagomi shoyu                  11.0     5  \n",
       "shio ramen                    11.0     5  \n",
       "soft-shell miso crab ramen    14.0     7  "
      ]
     },
     "execution_count": 10,
     "metadata": {},
     "output_type": "execute_result"
    }
   ],
   "source": [
    "# check output of combined dataframe\n",
    "combined_df.head()"
   ]
  },
  {
   "cell_type": "code",
   "execution_count": 11,
   "metadata": {},
   "outputs": [],
   "source": [
    "# drop columns not needed \"category\" \"description\"\n",
    "combined_df = combined_df.drop(columns=[\"category\", \"description\"])"
   ]
  },
  {
   "cell_type": "code",
   "execution_count": 12,
   "metadata": {},
   "outputs": [],
   "source": [
    "# calculate revenue, cogs, and profit by item quanity sold\n",
    "combined_df['Revenue'] = combined_df['Quantity'] * combined_df['price']\n",
    "combined_df['COGS'] = combined_df['Quantity'] * combined_df['cost']\n",
    "combined_df['Profit'] = combined_df['Revenue'] - combined_df['COGS']"
   ]
  },
  {
   "cell_type": "code",
   "execution_count": 13,
   "metadata": {},
   "outputs": [
    {
     "data": {
      "text/html": [
       "<div>\n",
       "<style scoped>\n",
       "    .dataframe tbody tr th:only-of-type {\n",
       "        vertical-align: middle;\n",
       "    }\n",
       "\n",
       "    .dataframe tbody tr th {\n",
       "        vertical-align: top;\n",
       "    }\n",
       "\n",
       "    .dataframe thead th {\n",
       "        text-align: right;\n",
       "    }\n",
       "</style>\n",
       "<table border=\"1\" class=\"dataframe\">\n",
       "  <thead>\n",
       "    <tr style=\"text-align: right;\">\n",
       "      <th></th>\n",
       "      <th>Quantity</th>\n",
       "      <th>price</th>\n",
       "      <th>cost</th>\n",
       "      <th>Revenue</th>\n",
       "      <th>COGS</th>\n",
       "      <th>Profit</th>\n",
       "    </tr>\n",
       "  </thead>\n",
       "  <tbody>\n",
       "    <tr>\n",
       "      <th>burnt garlic tonkotsu ramen</th>\n",
       "      <td>9070</td>\n",
       "      <td>14.0</td>\n",
       "      <td>6</td>\n",
       "      <td>126980.0</td>\n",
       "      <td>54420</td>\n",
       "      <td>72560.0</td>\n",
       "    </tr>\n",
       "    <tr>\n",
       "      <th>miso crab ramen</th>\n",
       "      <td>8890</td>\n",
       "      <td>12.0</td>\n",
       "      <td>6</td>\n",
       "      <td>106680.0</td>\n",
       "      <td>53340</td>\n",
       "      <td>53340.0</td>\n",
       "    </tr>\n",
       "    <tr>\n",
       "      <th>nagomi shoyu</th>\n",
       "      <td>9132</td>\n",
       "      <td>11.0</td>\n",
       "      <td>5</td>\n",
       "      <td>100452.0</td>\n",
       "      <td>45660</td>\n",
       "      <td>54792.0</td>\n",
       "    </tr>\n",
       "    <tr>\n",
       "      <th>shio ramen</th>\n",
       "      <td>9180</td>\n",
       "      <td>11.0</td>\n",
       "      <td>5</td>\n",
       "      <td>100980.0</td>\n",
       "      <td>45900</td>\n",
       "      <td>55080.0</td>\n",
       "    </tr>\n",
       "    <tr>\n",
       "      <th>soft-shell miso crab ramen</th>\n",
       "      <td>9130</td>\n",
       "      <td>14.0</td>\n",
       "      <td>7</td>\n",
       "      <td>127820.0</td>\n",
       "      <td>63910</td>\n",
       "      <td>63910.0</td>\n",
       "    </tr>\n",
       "  </tbody>\n",
       "</table>\n",
       "</div>"
      ],
      "text/plain": [
       "                             Quantity  price  cost   Revenue   COGS   Profit\n",
       "burnt garlic tonkotsu ramen      9070   14.0     6  126980.0  54420  72560.0\n",
       "miso crab ramen                  8890   12.0     6  106680.0  53340  53340.0\n",
       "nagomi shoyu                     9132   11.0     5  100452.0  45660  54792.0\n",
       "shio ramen                       9180   11.0     5  100980.0  45900  55080.0\n",
       "soft-shell miso crab ramen       9130   14.0     7  127820.0  63910  63910.0"
      ]
     },
     "execution_count": 13,
     "metadata": {},
     "output_type": "execute_result"
    }
   ],
   "source": [
    "combined_df.head()"
   ]
  },
  {
   "cell_type": "code",
   "execution_count": 14,
   "metadata": {},
   "outputs": [],
   "source": [
    "# drop \"price\" and \"cost\" columns for and initialize new dataframe for final report\n",
    "report = combined_df.drop(columns = ['price', 'cost'])"
   ]
  },
  {
   "cell_type": "code",
   "execution_count": 15,
   "metadata": {},
   "outputs": [
    {
     "data": {
      "text/html": [
       "<div>\n",
       "<style scoped>\n",
       "    .dataframe tbody tr th:only-of-type {\n",
       "        vertical-align: middle;\n",
       "    }\n",
       "\n",
       "    .dataframe tbody tr th {\n",
       "        vertical-align: top;\n",
       "    }\n",
       "\n",
       "    .dataframe thead th {\n",
       "        text-align: right;\n",
       "    }\n",
       "</style>\n",
       "<table border=\"1\" class=\"dataframe\">\n",
       "  <thead>\n",
       "    <tr style=\"text-align: right;\">\n",
       "      <th></th>\n",
       "      <th>Quantity</th>\n",
       "      <th>Revenue</th>\n",
       "      <th>COGS</th>\n",
       "      <th>Profit</th>\n",
       "    </tr>\n",
       "  </thead>\n",
       "  <tbody>\n",
       "    <tr>\n",
       "      <th>burnt garlic tonkotsu ramen</th>\n",
       "      <td>9070</td>\n",
       "      <td>126980.0</td>\n",
       "      <td>54420</td>\n",
       "      <td>72560.0</td>\n",
       "    </tr>\n",
       "    <tr>\n",
       "      <th>miso crab ramen</th>\n",
       "      <td>8890</td>\n",
       "      <td>106680.0</td>\n",
       "      <td>53340</td>\n",
       "      <td>53340.0</td>\n",
       "    </tr>\n",
       "    <tr>\n",
       "      <th>nagomi shoyu</th>\n",
       "      <td>9132</td>\n",
       "      <td>100452.0</td>\n",
       "      <td>45660</td>\n",
       "      <td>54792.0</td>\n",
       "    </tr>\n",
       "    <tr>\n",
       "      <th>shio ramen</th>\n",
       "      <td>9180</td>\n",
       "      <td>100980.0</td>\n",
       "      <td>45900</td>\n",
       "      <td>55080.0</td>\n",
       "    </tr>\n",
       "    <tr>\n",
       "      <th>soft-shell miso crab ramen</th>\n",
       "      <td>9130</td>\n",
       "      <td>127820.0</td>\n",
       "      <td>63910</td>\n",
       "      <td>63910.0</td>\n",
       "    </tr>\n",
       "  </tbody>\n",
       "</table>\n",
       "</div>"
      ],
      "text/plain": [
       "                             Quantity   Revenue   COGS   Profit\n",
       "burnt garlic tonkotsu ramen      9070  126980.0  54420  72560.0\n",
       "miso crab ramen                  8890  106680.0  53340  53340.0\n",
       "nagomi shoyu                     9132  100452.0  45660  54792.0\n",
       "shio ramen                       9180  100980.0  45900  55080.0\n",
       "soft-shell miso crab ramen       9130  127820.0  63910  63910.0"
      ]
     },
     "execution_count": 15,
     "metadata": {},
     "output_type": "execute_result"
    }
   ],
   "source": [
    "# check the final report output\n",
    "report.head()"
   ]
  },
  {
   "cell_type": "code",
   "execution_count": 16,
   "metadata": {},
   "outputs": [],
   "source": [
    "# intialize an output file to hold the financial analysis\n",
    "output_file = 'Financial_Analysis.txt'"
   ]
  },
  {
   "cell_type": "code",
   "execution_count": 17,
   "metadata": {},
   "outputs": [],
   "source": [
    "# write a new csv file to contain the financial analysis as output and convert to string\n",
    "with open(output_file, 'w+') as file:\n",
    "    file.write(report.to_string(header = True, index = True))\n",
    "    "
   ]
  },
  {
   "cell_type": "code",
   "execution_count": null,
   "metadata": {},
   "outputs": [],
   "source": []
  }
 ],
 "metadata": {
  "kernelspec": {
   "display_name": "Python 3",
   "language": "python",
   "name": "python3"
  },
  "language_info": {
   "codemirror_mode": {
    "name": "ipython",
    "version": 3
   },
   "file_extension": ".py",
   "mimetype": "text/x-python",
   "name": "python",
   "nbconvert_exporter": "python",
   "pygments_lexer": "ipython3",
   "version": "3.7.7"
  }
 },
 "nbformat": 4,
 "nbformat_minor": 4
}
